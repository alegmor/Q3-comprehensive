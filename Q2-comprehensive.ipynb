{
 "cells": [
  {
   "cell_type": "markdown",
   "metadata": {},
   "source": [
    "### **Comprehensive examination**\n",
    "\n",
    "J Alejandra García M.\n",
    "\n",
    "Question 2.\n",
    "\n",
    "Consider a tank with pressurized air with $P_0 = 700,\\text{kPa}$, $T_0 = 20 ,^\\circ\\text{C}$, $V = 1.5\\,\\text{m}^3$. Throat area in the converging section of the nozzle of $0.65\\,\\text{cm}^2$, exhausting to 1 atm environment. Determine the net time taken for pressure in the tank to decrease to $500\\,\\text{kPa}$. You can assume calorically perfect and ideal gas while stagnation temperature is constant (so small heat transfer to tank in time operation)\n",
    "\n"
   ]
  },
  {
   "cell_type": "code",
   "execution_count": 4,
   "metadata": {},
   "outputs": [
    {
     "data": {
      "text/plain": [
       "0.00014474285714285713"
      ]
     },
     "execution_count": 4,
     "metadata": {},
     "output_type": "execute_result"
    }
   ],
   "source": [
    "def Celsius_to_Kelvin(T):\n",
    "    return T + 273.15\n",
    "\n",
    "Po    = 700e3                       # Initial pressure in Pa \n",
    "Po_t  = 500e3                       # Pressure at time t in Pa\n",
    "P_atm = 101.32                      # Atmospheric pressure in Pa\n",
    "A     = 6.5e-5                      # Throat area in m^2\n",
    "R     = 287                         # Gas constant J/(kg.K)\n",
    "To    = 20                          # Temperature in Celsius\n",
    "To    =  Celsius_to_Kelvin(To)      # Temperature in Kelvin\n",
    "V     = 1.5                         # Volume in m^3\n",
    "k     = 1.4                         # Constant\n",
    "Ma    = 1                           # Mach number\n",
    "A     = 0.000065                    # Area of the converging nozzle m^2\n",
    "\n",
    "\n",
    "P_atm/Po                            #Ratio of P_atm/Po"
   ]
  },
  {
   "cell_type": "code",
   "execution_count": null,
   "metadata": {},
   "outputs": [],
   "source": []
  }
 ],
 "metadata": {
  "kernelspec": {
   "display_name": "Python 3",
   "language": "python",
   "name": "python3"
  },
  "language_info": {
   "codemirror_mode": {
    "name": "ipython",
    "version": 3
   },
   "file_extension": ".py",
   "mimetype": "text/x-python",
   "name": "python",
   "nbconvert_exporter": "python",
   "pygments_lexer": "ipython3",
   "version": "3.8.10"
  }
 },
 "nbformat": 4,
 "nbformat_minor": 2
}

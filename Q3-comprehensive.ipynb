{
 "cells": [
  {
   "cell_type": "code",
   "execution_count": 1,
   "metadata": {},
   "outputs": [
    {
     "data": {
      "text/plain": [
       "1146976.132519168"
      ]
     },
     "execution_count": 1,
     "metadata": {},
     "output_type": "execute_result"
    }
   ],
   "source": [
    "def calculate_heat_flux():\n",
    "    mu_l      = 279e-6               # Dynamic viscosity in Pa·s\n",
    "    h_fg      = 2257000              # Latent heat of vaporization in J/kg\n",
    "    g         = 9.8                  # Acceleration due to gravity in m/s^2\n",
    "    rho_l     = 957.9                # Density of liquid in kg/m^3\n",
    "    rho_v     = 0.5956               # Density of vapor in kg/m^3\n",
    "    sigma     = 0.0589               # Surface tension in N/m\n",
    "    c_p_l     = 4217                 # Specific heat capacity of liquid in J/kg·K\n",
    "    delta_T_e = 20                   # Excess temperature in K (20°C)\n",
    "    C_sf      = 0.0128               # Surface fluid factor \n",
    "    Pr_l      = 1.76                 # Prandtl number\n",
    "    n         = 1                    # Empirical constant\n",
    "\n",
    "    part1 = mu_l * h_fg\n",
    "    part2 = ((g * (rho_l - rho_v)) / sigma) ** 0.5\n",
    "    part3 = (c_p_l * delta_T_e) / (C_sf * h_fg * Pr_l**n)\n",
    "    part4 = part3 ** 3\n",
    "\n",
    "    q_s_double_prime = part1 * part2 * part4\n",
    "\n",
    "    return q_s_double_prime\n",
    "\n",
    "heat_flux = calculate_heat_flux()\n",
    "heat_flux\n"
   ]
  },
  {
   "cell_type": "code",
   "execution_count": null,
   "metadata": {},
   "outputs": [],
   "source": []
  }
 ],
 "metadata": {
  "kernelspec": {
   "display_name": "Python 3",
   "language": "python",
   "name": "python3"
  },
  "language_info": {
   "codemirror_mode": {
    "name": "ipython",
    "version": 3
   },
   "file_extension": ".py",
   "mimetype": "text/x-python",
   "name": "python",
   "nbconvert_exporter": "python",
   "pygments_lexer": "ipython3",
   "version": "3.8.10"
  }
 },
 "nbformat": 4,
 "nbformat_minor": 2
}

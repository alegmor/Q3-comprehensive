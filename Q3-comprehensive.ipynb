{
 "cells": [
  {
   "cell_type": "markdown",
   "metadata": {},
   "source": [
    "### **Comprehensive examination**\n",
    "\n",
    "J Alejandra García M.\n",
    "\n",
    "Question 3. \n",
    "\n",
    "A metal clad heating element consisting of a circular rod of 6 mm diameter and 10 cm length, and emissivity of  $\\varepsilon = 1$ is horizontally immersed in a water bath. The surface temperature of the metal is $120°C$  under steady-state boiling conditions.\n",
    "\n"
   ]
  },
  {
   "cell_type": "markdown",
   "metadata": {},
   "source": [
    "(a) **Estimate the power required to boil water in this pan.**  \n",
    "\n",
    "The Rohsenow pool boiling correlation is given by\n",
    "\n",
    "\\begin{equation*}\n",
    "    q^{''}_s = \\mu_l h_{fg} \\left[\\frac{g(\\rho_l - \\rho_v)}{\\sigma} \\right]^{1/2} \\left(\\frac{c_{p,l} \\Delta T_e}{C_{s,f} h_{fg} Pr^{n}_{l}} \\right)^3,\n",
    "\\end{equation*}"
   ]
  },
  {
   "cell_type": "code",
   "execution_count": 1,
   "metadata": {},
   "outputs": [
    {
     "name": "stdout",
     "output_type": "stream",
     "text": [
      "The heat flux per square meter is q2'' = 1146976.132519168 W/m^2 = 1.146976132519168 MW/m^2 \n",
      "The boiling heat transfer rate is q2 = 32.42998612588546 W = 3.242998612588546e-05 MW \n"
     ]
    }
   ],
   "source": [
    "import numpy as np\n",
    "\n",
    "mu_l      = 279e-6               # Dynamic viscosity in Pa·s\n",
    "h_fg      = 2257000              # Latent heat of vaporization in J/kg\n",
    "g         = 9.8                  # Acceleration due to gravity in m/s^2\n",
    "rho_l     = 957.9                # Density of liquid in kg/m^3\n",
    "rho_v     = 0.5956               # Density of vapor in kg/m^3\n",
    "sigma     = 0.0589               # Surface tension in N/m\n",
    "c_p_l     = 4217                 # Specific heat capacity of liquid in J/kg·K\n",
    "delta_T_e = 20                   # Excess temperature in K (20°C)\n",
    "C_sf      = 0.0128               # Surface fluid factor \n",
    "Pr_l      = 1.76                 # Prandtl number\n",
    "n         = 1                    # Empirical constant\n",
    "C         = 0.131                # Zuber constant\n",
    "D         = 6/1000               # Diameter in meters\n",
    "A         = (np.pi * (D ** 2))/4 # Area of a circle\n",
    "\n",
    "\n",
    "def get_heat_flux(mu_l, h_fg, g, rho_l, rho_v, sigma, c_p_l, delta_T_e, C_sf, Pr_l, n):\n",
    "\n",
    "    part1 = mu_l * h_fg\n",
    "    part2 = ((g * (rho_l - rho_v)) / sigma) ** 0.5\n",
    "    part3 = (c_p_l * delta_T_e) / (C_sf * h_fg * Pr_l**n)\n",
    "    part4 = part3 ** 3\n",
    "\n",
    "    q_s_double_prime = part1 * part2 * part4\n",
    "\n",
    "    return q_s_double_prime\n",
    "\n",
    "\n",
    "\n",
    "heat_flux = get_heat_flux(mu_l, h_fg, g, rho_l, rho_v, sigma, c_p_l, delta_T_e, C_sf, Pr_l, n)\n",
    "\n",
    "print(\"The heat flux per square meter is q2'' = {} W/m^2 = {} MW/m^2 \".format(heat_flux,heat_flux/1e6))\n",
    "print(\"The boiling heat transfer rate is q2 = {} W = {} MW \".format( heat_flux * A   , heat_flux * A   /1e6))"
   ]
  },
  {
   "cell_type": "markdown",
   "metadata": {},
   "source": [
    "(b) **What is the evaporation rate under these conditions?**"
   ]
  },
  {
   "cell_type": "markdown",
   "metadata": {},
   "source": [
    "Once the boiling heat transfer rate \\(q_s\\) is calculated and assuming that the heat transfer will result only in water evaporation, the evaporation rate is given by:\n",
    "\n",
    "\\begin{equation*}\n",
    "\\dot{m} = \\frac{q_s}{h_{fg}} = \\frac{32.42 \\, \\text{W}}{2257 \\, \\text{kJ/kg} \\times 1000 \\, \\text{J/kJ}} = 1.43 \\times 10^{-5} \\, \\text{kg/s}\n",
    "\\end{equation*}\n"
   ]
  },
  {
   "cell_type": "code",
   "execution_count": 2,
   "metadata": {},
   "outputs": [
    {
     "name": "stdout",
     "output_type": "stream",
     "text": [
      "The rate of vaporization is m = 1.436420026583961e-05 kg/s = 0.0517111209570226 kg/h\n"
     ]
    }
   ],
   "source": [
    "q_s        = 32.42               # Power in watts (Joules per second)\n",
    "h_fg       = 2257 * 1000         # Latent heat of vaporization in Joules per kilogram (converted from kJ/kg to J/kg)\n",
    "dot_m      = q_s / h_fg          # Mass flow rate in kg/s\n",
    "dot_m_kg_h = dot_m * 3600        # (kg/s)(3600 s/1 h) = kg/h\n",
    "\n",
    "print(\"The rate of vaporization is m = {} kg/s = {} kg/h\".format(dot_m,dot_m_kg_h))"
   ]
  },
  {
   "cell_type": "markdown",
   "metadata": {},
   "source": [
    "(c) **Estimate the critical heat flux.**\n",
    "\n",
    "The critical heat flux (CHF) for nucleate pool boiling is given by:\n",
    "\\begin{equation*}\n",
    "q''_{\\text{max}} =  C h_{fg} \\rho_v \\left[\\frac{\\sigma g (\\rho_l - \\rho_v)}{\\rho_v^2}  \\right]^{1/4}\n",
    "\\end{equation*}\n",
    "\n",
    "\n",
    "For large horizontal cylinders, the Zuber constant is \\( C = 0.131 \\). By substituting all the parameters into the equation, the CHF is calculated as follows:\n",
    "\\begin{equation*}\n",
    "q''_{\\text{max}} = 0.131 \\times 2257000 \\times 0.5956 \\times \\left[\\frac{0.0589 \\times 9.8 \\times (957.9 - 0.5956)}{0.5956^2} \\right]^{1/4} = 1.106 \\, \\text{MW/m}^2 .\n",
    "\\end{equation*}\n"
   ]
  },
  {
   "cell_type": "markdown",
   "metadata": {},
   "source": []
  },
  {
   "cell_type": "code",
   "execution_count": 3,
   "metadata": {},
   "outputs": [
    {
     "name": "stdout",
     "output_type": "stream",
     "text": [
      "The CHF = 1106313.1017650536 W/m^2 = 1.1063131017650536 MW/m^2\n"
     ]
    }
   ],
   "source": [
    "def critical_heat_flux(C, h_fg, sigma, g, rho_l, rho_v):\n",
    "    q_max = C * h_fg * rho_v * ((sigma * g * (rho_l - rho_v) / (rho_v**2))**(1/4))\n",
    "    return q_max\n",
    "\n",
    "print(\"The CHF = {} W/m^2 = {} MW/m^2\".format(critical_heat_flux(C, h_fg, sigma, g, rho_l, rho_v),critical_heat_flux(C, h_fg, sigma, g, rho_l, rho_v)/1e6))"
   ]
  },
  {
   "cell_type": "markdown",
   "metadata": {},
   "source": [
    "Now consider that the fluid is stirred by moving the element through the water at 1 m/s. Under these\n",
    "conditions\n",
    "\n",
    "(d) ***Estimate the evaporation rate***"
   ]
  },
  {
   "cell_type": "code",
   "execution_count": 5,
   "metadata": {},
   "outputs": [
    {
     "name": "stdout",
     "output_type": "stream",
     "text": [
      "The heat flux is per unit area is q''= 2161980300.0 W/m^2 = 2161.9803 MW/^2 \n",
      "The boiling heat transfer rate is q2 = 61128.55284917271 W = 0.06112855284917271 MW \n",
      "The rate of vaporization is m = 957.9 kg/s = 3448440.0 kg/h\n"
     ]
    }
   ],
   "source": [
    "V            = 1                     # Characteristic velocity in m/s\n",
    "q_s_V        = V * rho_l * h_fg      # in W/m^2 since V is m/s, rho_l is kg/m^3, and h_fg is J/kg\n",
    "dot_m_V      = q_s_V / h_fg          # Mass flow rate in kg/s\n",
    "dot_m_kg_h_V = dot_m_V * 3600        # (kg/s)(3600 s/1 h) = kg/h\n",
    "\n",
    "print(\"The heat flux is per unit area is q''= {} W/m^2 = {} MW/^2 \".format(q_s_V,q_s_V/1e6))\n",
    "print(\"The boiling heat transfer rate is q2 = {} W = {} MW \".format( q_s_V * A   , q_s_V * A   /1e6))\n",
    "print(\"The rate of vaporization is m = {} kg/s = {} kg/h\".format(dot_m_V,dot_m_kg_h_V))"
   ]
  }
 ],
 "metadata": {
  "kernelspec": {
   "display_name": "Python 3",
   "language": "python",
   "name": "python3"
  },
  "language_info": {
   "codemirror_mode": {
    "name": "ipython",
    "version": 3
   },
   "file_extension": ".py",
   "mimetype": "text/x-python",
   "name": "python",
   "nbconvert_exporter": "python",
   "pygments_lexer": "ipython3",
   "version": "3.8.10"
  }
 },
 "nbformat": 4,
 "nbformat_minor": 2
}
